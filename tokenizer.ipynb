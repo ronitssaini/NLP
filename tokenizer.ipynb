{
 "cells": [
  {
   "cell_type": "code",
   "execution_count": 1,
   "id": "4e38b513-6976-418c-b3b9-394917c4ef82",
   "metadata": {},
   "outputs": [
    {
     "name": "stdout",
     "output_type": "stream",
     "text": [
      "Requirement already satisfied: nltk in /opt/anaconda3/lib/python3.12/site-packages (3.8.1)\n",
      "Requirement already satisfied: click in /opt/anaconda3/lib/python3.12/site-packages (from nltk) (8.1.7)\n",
      "Requirement already satisfied: joblib in /opt/anaconda3/lib/python3.12/site-packages (from nltk) (1.4.2)\n",
      "Requirement already satisfied: regex>=2021.8.3 in /opt/anaconda3/lib/python3.12/site-packages (from nltk) (2023.10.3)\n",
      "Requirement already satisfied: tqdm in /opt/anaconda3/lib/python3.12/site-packages (from nltk) (4.66.4)\n"
     ]
    }
   ],
   "source": [
    "!pip install nltk"
   ]
  },
  {
   "cell_type": "code",
   "execution_count": 77,
   "id": "66162324-9d75-4e4b-b170-95f8afc47471",
   "metadata": {},
   "outputs": [],
   "source": [
    "corpus='''Beneath the golden sky, a curious child wandered through fields of tall grass, chasing butterflies and forgotten dreams. \n",
    "The breeze carried laughter from distant hills, while birds sang songs of freedom. Time slowed, and everything felt infinite. \n",
    "In that fleeting moment, the world whispered secrets only innocence could truly understand.'''"
   ]
  },
  {
   "cell_type": "code",
   "execution_count": 31,
   "id": "edf8c89a-15b2-40a3-b29f-3a8837cccf89",
   "metadata": {},
   "outputs": [
    {
     "name": "stderr",
     "output_type": "stream",
     "text": [
      "[nltk_data] Downloading package punkt to\n",
      "[nltk_data]     /Users/ronitsaini/nltk_data...\n",
      "[nltk_data]   Unzipping tokenizers/punkt.zip.\n"
     ]
    },
    {
     "data": {
      "text/plain": [
       "True"
      ]
     },
     "execution_count": 31,
     "metadata": {},
     "output_type": "execute_result"
    }
   ],
   "source": [
    "import nltk\n",
    "nltk.download('punkt')"
   ]
  },
  {
   "cell_type": "code",
   "execution_count": 33,
   "id": "af64813f-28e7-47c3-ace9-4c4fc5c2b8f6",
   "metadata": {},
   "outputs": [],
   "source": [
    "from nltk.tokenize import sent_tokenize"
   ]
  },
  {
   "cell_type": "code",
   "execution_count": 37,
   "id": "bbfb7293-9dd9-4308-8961-c5fea8919dcf",
   "metadata": {},
   "outputs": [],
   "source": [
    "sentences=sent_tokenize(corpus)"
   ]
  },
  {
   "cell_type": "code",
   "execution_count": 39,
   "id": "4155792e-8cc7-4fc5-877d-ce3d74a45154",
   "metadata": {},
   "outputs": [
    {
     "name": "stdout",
     "output_type": "stream",
     "text": [
      "['Beneath the golden sky, a curious child wandered through fields of tall grass, chasing butterflies and forgotten dreams.', 'The breeze carried laughter from distant hills, while birds sang songs of freedom.', 'Time slowed, and everything felt infinite.', 'In that fleeting moment, the world whispered secrets only innocence could truly understand.']\n"
     ]
    }
   ],
   "source": [
    "print(sentences)"
   ]
  },
  {
   "cell_type": "code",
   "execution_count": 67,
   "id": "823fcb0d-6bff-4027-be5d-b3726ae15abb",
   "metadata": {},
   "outputs": [],
   "source": [
    "from nltk.tokenize import TreebankWordTokenizer"
   ]
  },
  {
   "cell_type": "code",
   "execution_count": 79,
   "id": "5775ebc9-e836-43de-8aa7-9b845723618f",
   "metadata": {},
   "outputs": [],
   "source": [
    "tree_bank_word_tokenize=TreebankWordTokenizer()"
   ]
  },
  {
   "cell_type": "code",
   "execution_count": 81,
   "id": "573e6672-50f4-41bb-b222-aff0b590e9db",
   "metadata": {},
   "outputs": [],
   "source": [
    "words=tree_bank_word_tokenize.tokenize(corpus)"
   ]
  },
  {
   "cell_type": "code",
   "execution_count": 83,
   "id": "bcf79723-43aa-41fc-ba21-730ded1b9284",
   "metadata": {},
   "outputs": [
    {
     "name": "stdout",
     "output_type": "stream",
     "text": [
      "['Beneath', 'the', 'golden', 'sky', ',', 'a', 'curious', 'child', 'wandered', 'through', 'fields', 'of', 'tall', 'grass', ',', 'chasing', 'butterflies', 'and', 'forgotten', 'dreams.', 'The', 'breeze', 'carried', 'laughter', 'from', 'distant', 'hills', ',', 'while', 'birds', 'sang', 'songs', 'of', 'freedom.', 'Time', 'slowed', ',', 'and', 'everything', 'felt', 'infinite.', 'In', 'that', 'fleeting', 'moment', ',', 'the', 'world', 'whispered', 'secrets', 'only', 'innocence', 'could', 'truly', 'understand', '.']\n"
     ]
    }
   ],
   "source": [
    "print(words)"
   ]
  },
  {
   "cell_type": "code",
   "execution_count": null,
   "id": "da3960cb-c90b-41ee-a511-ace8c6660ec8",
   "metadata": {},
   "outputs": [],
   "source": []
  },
  {
   "cell_type": "code",
   "execution_count": null,
   "id": "c7393a19-b3e6-49f9-ae7c-a6fb16b25962",
   "metadata": {},
   "outputs": [],
   "source": []
  },
  {
   "cell_type": "code",
   "execution_count": null,
   "id": "f882ba49-660a-43c1-92ea-87414d372fd5",
   "metadata": {},
   "outputs": [],
   "source": []
  }
 ],
 "metadata": {
  "kernelspec": {
   "display_name": "Python 3 (ipykernel)",
   "language": "python",
   "name": "python3"
  },
  "language_info": {
   "codemirror_mode": {
    "name": "ipython",
    "version": 3
   },
   "file_extension": ".py",
   "mimetype": "text/x-python",
   "name": "python",
   "nbconvert_exporter": "python",
   "pygments_lexer": "ipython3",
   "version": "3.12.2"
  }
 },
 "nbformat": 4,
 "nbformat_minor": 5
}
