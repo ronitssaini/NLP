{
 "cells": [
  {
   "cell_type": "code",
   "execution_count": 1,
   "id": "57fcdfdf-20b5-4d57-833f-408cbd075a6d",
   "metadata": {},
   "outputs": [],
   "source": [
    "corpus='''\n",
    "Alexander the Great, born in 356 BCE in Pella, Macedonia, was one of history’s most renowned military commanders and empire builders. Tutored by the philosopher Aristotle, Alexander developed a love for knowledge, strategy, and leadership from a young age. He succeeded his father, King Philip II, at the age of 20 and quickly set out to expand his empire. In a span of just over a decade, he conquered a vast territory stretching from Greece to Egypt and as far east as India.\n",
    "\n",
    "Alexander’s military brilliance was demonstrated in key battles such as the Battle of Issus and the Battle of Gaugamela, where he defeated the Persian Empire under Darius III. He was known for his bold tactics, ability to inspire troops, and unrelenting ambition. Beyond warfare, Alexander spread Hellenistic culture across his empire, blending Greek, Persian, Egyptian, and Indian influences.\n",
    "\n",
    "Though he planned to further expand into Arabia, Alexander died suddenly in 323 BCE in Babylon at the age of 32. His death led to the fragmentation of his empire among his generals, known as the Diadochi. Despite his short life, Alexander’s legacy endures through the cultural and political influence he left across continents.\n",
    "'''"
   ]
  },
  {
   "cell_type": "code",
   "execution_count": 3,
   "id": "c0751164-6042-434f-84ac-dfc6dd4d4111",
   "metadata": {},
   "outputs": [],
   "source": [
    "from nltk.tokenize import sent_tokenize\n"
   ]
  },
  {
   "cell_type": "code",
   "execution_count": 5,
   "id": "44249e38-b698-421a-825e-efb4c96493f2",
   "metadata": {},
   "outputs": [],
   "source": [
    "sentences=sent_tokenize(corpus)"
   ]
  },
  {
   "cell_type": "code",
   "execution_count": 11,
   "id": "aa76400d-8532-46a8-abfa-a8187556a53f",
   "metadata": {},
   "outputs": [
    {
     "data": {
      "text/plain": [
       "list"
      ]
     },
     "execution_count": 11,
     "metadata": {},
     "output_type": "execute_result"
    }
   ],
   "source": [
    "type(sentences)"
   ]
  },
  {
   "cell_type": "code",
   "execution_count": 17,
   "id": "a086095f-7c41-4ab8-96ac-270eff2cf463",
   "metadata": {},
   "outputs": [],
   "source": [
    "from nltk.tokenize import word_tokenize"
   ]
  },
  {
   "cell_type": "code",
   "execution_count": 29,
   "id": "a35ba4a1-cd3b-40ee-91dc-b69941408db6",
   "metadata": {},
   "outputs": [],
   "source": [
    "from nltk.corpus import stopwords\n",
    "import nltk"
   ]
  },
  {
   "cell_type": "code",
   "execution_count": 33,
   "id": "8c5f71ee-ff71-4969-9def-7f5b83555ed8",
   "metadata": {},
   "outputs": [
    {
     "name": "stderr",
     "output_type": "stream",
     "text": [
      "[nltk_data] Downloading package averaged_perceptron_tagger to\n",
      "[nltk_data]     /Users/ronitsaini/nltk_data...\n",
      "[nltk_data]   Unzipping taggers/averaged_perceptron_tagger.zip.\n"
     ]
    },
    {
     "data": {
      "text/plain": [
       "True"
      ]
     },
     "execution_count": 33,
     "metadata": {},
     "output_type": "execute_result"
    }
   ],
   "source": [
    "nltk.download('averaged_perceptron_tagger')"
   ]
  },
  {
   "cell_type": "code",
   "execution_count": 35,
   "id": "0bbed635-de3e-4e35-93ee-aa37a176db07",
   "metadata": {},
   "outputs": [
    {
     "name": "stdout",
     "output_type": "stream",
     "text": [
      "[('Alexander', 'NNP'), ('Great', 'NNP'), (',', ','), ('born', 'VBD'), ('356', 'CD'), ('BCE', 'NNP'), ('Pella', 'NNP'), (',', ','), ('Macedonia', 'NNP'), (',', ','), ('one', 'CD'), ('history', 'NN'), ('’', 'NN'), ('renowned', 'VBD'), ('military', 'JJ'), ('commanders', 'NNS'), ('empire', 'VBP'), ('builders', 'NNS'), ('.', '.')]\n",
      "[('Tutored', 'NNP'), ('philosopher', 'CC'), ('Aristotle', 'NNP'), (',', ','), ('Alexander', 'NNP'), ('developed', 'VBD'), ('love', 'VB'), ('knowledge', 'NN'), (',', ','), ('strategy', 'NN'), (',', ','), ('leadership', 'NN'), ('young', 'JJ'), ('age', 'NN'), ('.', '.')]\n",
      "[('He', 'PRP'), ('succeeded', 'VBD'), ('father', 'RB'), (',', ','), ('King', 'NNP'), ('Philip', 'NNP'), ('II', 'NNP'), (',', ','), ('age', 'NN'), ('20', 'CD'), ('quickly', 'RB'), ('set', 'VBN'), ('expand', 'NN'), ('empire', 'NN'), ('.', '.')]\n",
      "[('In', 'IN'), ('span', 'NN'), ('decade', 'NN'), (',', ','), ('conquered', 'VBD'), ('vast', 'JJ'), ('territory', 'NN'), ('stretching', 'VBG'), ('Greece', 'NNP'), ('Egypt', 'NNP'), ('far', 'RB'), ('east', 'RB'), ('India', 'NNP'), ('.', '.')]\n",
      "[('Alexander', 'NNP'), ('’', 'NNP'), ('military', 'JJ'), ('brilliance', 'NN'), ('demonstrated', 'VBD'), ('key', 'JJ'), ('battles', 'NNS'), ('Battle', 'NNP'), ('Issus', 'NNP'), ('Battle', 'NNP'), ('Gaugamela', 'NNP'), (',', ','), ('defeated', 'VBD'), ('Persian', 'JJ'), ('Empire', 'NNP'), ('Darius', 'NNP'), ('III', 'NNP'), ('.', '.')]\n",
      "[('He', 'PRP'), ('known', 'MD'), ('bold', 'VB'), ('tactics', 'NNS'), (',', ','), ('ability', 'NN'), ('inspire', 'NN'), ('troops', 'NNS'), (',', ','), ('unrelenting', 'JJ'), ('ambition', 'NN'), ('.', '.')]\n",
      "[('Beyond', 'NNP'), ('warfare', 'NN'), (',', ','), ('Alexander', 'NNP'), ('spread', 'VBD'), ('Hellenistic', 'JJ'), ('culture', 'NN'), ('across', 'IN'), ('empire', 'NN'), (',', ','), ('blending', 'VBG'), ('Greek', 'NNP'), (',', ','), ('Persian', 'NNP'), (',', ','), ('Egyptian', 'NNP'), (',', ','), ('Indian', 'JJ'), ('influences', 'NNS'), ('.', '.')]\n",
      "[('Though', 'IN'), ('planned', 'VBN'), ('expand', 'NN'), ('Arabia', 'NNP'), (',', ','), ('Alexander', 'NNP'), ('died', 'VBD'), ('suddenly', 'RB'), ('323', 'CD'), ('BCE', 'NNP'), ('Babylon', 'NNP'), ('age', 'NN'), ('32', 'CD'), ('.', '.')]\n",
      "[('His', 'PRP$'), ('death', 'NN'), ('led', 'VBD'), ('fragmentation', 'NN'), ('empire', 'NN'), ('among', 'IN'), ('generals', 'NNS'), (',', ','), ('known', 'VBN'), ('Diadochi', 'NNP'), ('.', '.')]\n",
      "[('Despite', 'IN'), ('short', 'JJ'), ('life', 'NN'), (',', ','), ('Alexander', 'NNP'), ('’', 'NNP'), ('legacy', 'NN'), ('endures', 'VBZ'), ('cultural', 'JJ'), ('political', 'JJ'), ('influence', 'NN'), ('left', 'VBD'), ('across', 'IN'), ('continents', 'NNS'), ('.', '.')]\n"
     ]
    }
   ],
   "source": [
    "for i in range(len(sentences)):\n",
    "    words=word_tokenize(sentences[i])\n",
    "    words=[word for word in words if word not in set(stopwords.words('english'))]\n",
    "    pos_tag=nltk.pos_tag(words)\n",
    "    print(pos_tag)"
   ]
  },
  {
   "cell_type": "markdown",
   "id": "fc836cbc-95f3-40d1-ab36-5ecb9a248bd4",
   "metadata": {},
   "source": [
    "Name Entity Recognition"
   ]
  },
  {
   "cell_type": "code",
   "execution_count": 40,
   "id": "4bfc97c5-668e-4ed0-af3a-98d1de82a387",
   "metadata": {},
   "outputs": [],
   "source": [
    "corpus1='''The Eiffel Tower, built in 1889 by Gustave Eiffel, is one of the most iconic landmarks in Paris and a global symbol of France. Standing at 330 meters, it was initially criticized by artists but later became a celebrated masterpiece of iron architecture.'''"
   ]
  },
  {
   "cell_type": "code",
   "execution_count": 42,
   "id": "c5042a13-fdf8-42dc-aa21-d7c22752d199",
   "metadata": {},
   "outputs": [],
   "source": [
    "sentences1=sent_tokenize(corpus1)"
   ]
  },
  {
   "cell_type": "code",
   "execution_count": 48,
   "id": "3e9d78d1-f859-4571-9905-4ea9dc0b6899",
   "metadata": {},
   "outputs": [
    {
     "name": "stderr",
     "output_type": "stream",
     "text": [
      "[nltk_data] Downloading package maxent_ne_chunker to\n",
      "[nltk_data]     /Users/ronitsaini/nltk_data...\n",
      "[nltk_data]   Unzipping chunkers/maxent_ne_chunker.zip.\n"
     ]
    },
    {
     "data": {
      "text/plain": [
       "True"
      ]
     },
     "execution_count": 48,
     "metadata": {},
     "output_type": "execute_result"
    }
   ],
   "source": [
    "nltk.download('maxent_ne_chunker')"
   ]
  },
  {
   "cell_type": "code",
   "execution_count": 52,
   "id": "00ed2edf-9c48-49d9-af7a-bf910ab07814",
   "metadata": {},
   "outputs": [
    {
     "name": "stderr",
     "output_type": "stream",
     "text": [
      "[nltk_data] Downloading package words to\n",
      "[nltk_data]     /Users/ronitsaini/nltk_data...\n",
      "[nltk_data]   Unzipping corpora/words.zip.\n"
     ]
    },
    {
     "data": {
      "text/plain": [
       "True"
      ]
     },
     "execution_count": 52,
     "metadata": {},
     "output_type": "execute_result"
    }
   ],
   "source": [
    "nltk.download('words')"
   ]
  },
  {
   "cell_type": "code",
   "execution_count": 54,
   "id": "53bd859d-b315-4f4e-8c79-a8902fe75b76",
   "metadata": {},
   "outputs": [
    {
     "name": "stdout",
     "output_type": "stream",
     "text": [
      "(S\n",
      "  The/DT\n",
      "  (ORGANIZATION Eiffel/NNP Tower/NNP)\n",
      "  ,/,\n",
      "  built/JJ\n",
      "  1889/CD\n",
      "  Gustave/NNP\n",
      "  Eiffel/NNP\n",
      "  ,/,\n",
      "  one/CD\n",
      "  iconic/NN\n",
      "  landmarks/VBZ\n",
      "  (GPE Paris/NNP)\n",
      "  global/JJ\n",
      "  symbol/NN\n",
      "  (GPE France/NNP)\n",
      "  ./.)\n",
      "(S\n",
      "  Standing/VBG\n",
      "  330/CD\n",
      "  meters/NNS\n",
      "  ,/,\n",
      "  initially/RB\n",
      "  criticized/VBN\n",
      "  artists/NNS\n",
      "  later/RB\n",
      "  became/VBD\n",
      "  celebrated/JJ\n",
      "  masterpiece/NN\n",
      "  iron/NN\n",
      "  architecture/NN\n",
      "  ./.)\n"
     ]
    }
   ],
   "source": [
    "for i in range(len(sentences1)):\n",
    "    words=word_tokenize(sentences1[i])\n",
    "    words=[word for word in words if word not in set(stopwords.words('english'))]\n",
    "    pos_tag=nltk.pos_tag(words)\n",
    "    ner_tags=nltk.ne_chunk(pos_tag)\n",
    "    print(ner_tags)"
   ]
  },
  {
   "cell_type": "code",
   "execution_count": null,
   "id": "54cc8433-f87b-4e1b-8faf-40405041fe47",
   "metadata": {},
   "outputs": [],
   "source": []
  },
  {
   "cell_type": "code",
   "execution_count": null,
   "id": "40a284c4-c40f-4c4b-969a-49d564a0e8e6",
   "metadata": {},
   "outputs": [],
   "source": []
  },
  {
   "cell_type": "code",
   "execution_count": null,
   "id": "3129fa8d-38c6-4ab2-b565-5c0591c5e277",
   "metadata": {},
   "outputs": [],
   "source": []
  }
 ],
 "metadata": {
  "kernelspec": {
   "display_name": "Python 3 (ipykernel)",
   "language": "python",
   "name": "python3"
  },
  "language_info": {
   "codemirror_mode": {
    "name": "ipython",
    "version": 3
   },
   "file_extension": ".py",
   "mimetype": "text/x-python",
   "name": "python",
   "nbconvert_exporter": "python",
   "pygments_lexer": "ipython3",
   "version": "3.12.2"
  }
 },
 "nbformat": 4,
 "nbformat_minor": 5
}
